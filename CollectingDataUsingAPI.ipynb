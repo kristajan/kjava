{
 "cells": [
  {
   "cell_type": "markdown",
   "metadata": {},
   "source": [
    "<p style=\"text-align:center\">\n",
    "    <a href=\"https://skills.network\" target=\"_blank\">\n",
    "    <img src=\"https://cf-courses-data.s3.us.cloud-object-storage.appdomain.cloud/assets/logos/SN_web_lightmode.png\" width=\"200\" alt=\"Skills Network Logo\">\n",
    "    </a>\n",
    "</p>\n"
   ]
  },
  {
   "cell_type": "markdown",
   "metadata": {},
   "source": [
    "# **Collecting Job Data Using APIs**\n"
   ]
  },
  {
   "cell_type": "markdown",
   "metadata": {},
   "source": [
    "Estimated time needed: **45 to 60** minutes\n"
   ]
  },
  {
   "cell_type": "markdown",
   "metadata": {},
   "source": [
    "## Objectives\n"
   ]
  },
  {
   "cell_type": "markdown",
   "metadata": {},
   "source": [
    "After completing this lab, you will be able to:\n"
   ]
  },
  {
   "cell_type": "markdown",
   "metadata": {},
   "source": [
    "*   Collect job data from GitHub Jobs API\n",
    "*   Store the collected data into an excel spreadsheet.\n"
   ]
  },
  {
   "cell_type": "markdown",
   "metadata": {},
   "source": [
    "><strong>Note: Before starting with the assignment make sure to read all the instructions and then move ahead with the coding part.</strong>\n"
   ]
  },
  {
   "cell_type": "markdown",
   "metadata": {},
   "source": [
    "#### Instructions\n"
   ]
  },
  {
   "cell_type": "markdown",
   "metadata": {},
   "source": [
    "To run the actual lab, firstly you need to click on the [Jobs_API](https://cf-courses-data.s3.us.cloud-object-storage.appdomain.cloud/IBM-DA0321EN-SkillsNetwork/labs/module%201/Accessing%20Data%20Using%20APIs/Jobs_API.ipynb) notebook link. The file contains flask code which is required to run the Jobs API data.\n",
    "\n",
    "Now, to run the code in the file that opens up follow the below steps.\n",
    "\n",
    "Step1: Download the file. \n",
    "\n",
    "Step2: Upload it on the IBM Watson studio. (If IBM Watson Cloud service does not work in your system, follow the alternate Step 2 below)\n",
    "\n",
    "Step2(alternate): Upload it in your SN labs environment using the upload button which is highlighted in red in the image below:\n",
    "Remember to upload this Jobs_API file in the same folder as your current .ipynb file\n",
    "\n",
    "<img src=\"https://cf-courses-data.s3.us.cloud-object-storage.appdomain.cloud/IBM-DA0321EN-SkillsNetwork/labs/module%201/Accessing%20Data%20Using%20APIs/Upload.PNG\">\n",
    "\n",
    "Step3:  Run all the cells of the Jobs_API file. (Even if you receive an asterik sign after running the last cell, the code works fine.)\n",
    "\n",
    "If you want to learn more about flask, which is optional, you can click on this link [here](https://cf-courses-data.s3.us.cloud-object-storage.appdomain.cloud/IBM-DA0321EN-SkillsNetwork/labs/module%201/Accessing%20Data%20Using%20APIs/FLASK_API.md.html).\n",
    "\n",
    "Once you run the flask code, you can start with your assignment.\n"
   ]
  },
  {
   "cell_type": "markdown",
   "metadata": {},
   "source": [
    "## Dataset Used in this Assignment\n",
    "\n",
    "The dataset used in this lab comes from the following source: https://www.kaggle.com/promptcloud/jobs-on-naukricom under the under a **Public Domain license**.\n",
    "\n",
    "> Note: We are using a modified subset of that dataset for the lab, so to follow the lab instructions successfully please use the dataset provided with the lab, rather than the dataset from the original source.\n",
    "\n",
    "The original dataset is a csv. We have converted the csv to json as per the requirement of the lab.\n"
   ]
  },
  {
   "cell_type": "markdown",
   "metadata": {},
   "source": [
    "## Warm-Up Exercise\n"
   ]
  },
  {
   "cell_type": "markdown",
   "metadata": {},
   "source": [
    "Before you attempt the actual lab, here is a fully solved warmup exercise that will help you to learn how to access an API.\n"
   ]
  },
  {
   "cell_type": "markdown",
   "metadata": {},
   "source": [
    "Using an API, let us find out who currently are on the International Space Station (ISS).<br> The API at [http://api.open-notify.org/astros.json](http://api.open-notify.org/astros.json?utm_medium=Exinfluencer&utm_source=Exinfluencer&utm_content=000026UJ&utm_term=10006555&utm_id=NA-SkillsNetwork-Channel-SkillsNetworkCoursesIBMDA0321ENSkillsNetwork21426264-2021-01-01&cm_mmc=Email_Newsletter-_-Developer_Ed%2BTech-_-WW_WW-_-SkillsNetwork-Courses-IBM-DA0321EN-SkillsNetwork-21426264&cm_mmca1=000026UJ&cm_mmca2=10006555&cm_mmca3=M12345678&cvosrc=email.Newsletter.M12345678&cvo_campaign=000026UJ) gives us the information of astronauts currently on ISS in json format.<br>\n",
    "You can read more about this API at [http://open-notify.org/Open-Notify-API/People-In-Space/](http://open-notify.org/Open-Notify-API/People-In-Space?utm_medium=Exinfluencer&utm_source=Exinfluencer&utm_content=000026UJ&utm_term=10006555&utm_id=NA-SkillsNetwork-Channel-SkillsNetworkCoursesIBMDA0321ENSkillsNetwork21426264-2021-01-01&cm_mmc=Email_Newsletter-_-Developer_Ed%2BTech-_-WW_WW-_-SkillsNetwork-Courses-IBM-DA0321EN-SkillsNetwork-21426264&cm_mmca1=000026UJ&cm_mmca2=10006555&cm_mmca3=M12345678&cvosrc=email.Newsletter.M12345678&cvo_campaign=000026UJ)\n"
   ]
  },
  {
   "cell_type": "code",
   "execution_count": null,
   "metadata": {},
   "outputs": [],
   "source": [
    "import requests # you need this module to make an API call\n",
    "import pandas as pd"
   ]
  },
  {
   "cell_type": "code",
   "execution_count": null,
   "metadata": {},
   "outputs": [],
   "source": [
    "api_url = \"http://api.open-notify.org/astros.json\" # this url gives use the astronaut data"
   ]
  },
  {
   "cell_type": "code",
   "execution_count": null,
   "metadata": {},
   "outputs": [],
   "source": [
    "response = requests.get(api_url) # Call the API using the get method and store the\n",
    "                                # output of the API call in a variable called response."
   ]
  },
  {
   "cell_type": "code",
   "execution_count": null,
   "metadata": {},
   "outputs": [],
   "source": [
    "if response.ok:             # if all is well() no errors, no network timeouts)\n",
    "    data = response.json()  # store the result in json format in a variable called data\n",
    "                            # the variable data is of type dictionary."
   ]
  },
  {
   "cell_type": "code",
   "execution_count": null,
   "metadata": {},
   "outputs": [],
   "source": [
    "print('type of data is ', type(data))\n",
    "print(data)   # print the data just to check the output or for debugging\n",
    "print('\\ntext is ', type(response.text), response.text)\n"
   ]
  },
  {
   "cell_type": "markdown",
   "metadata": {},
   "source": [
    "Print the number of astronauts currently on ISS.\n"
   ]
  },
  {
   "cell_type": "code",
   "execution_count": null,
   "metadata": {},
   "outputs": [],
   "source": [
    "print(data.get('number'))"
   ]
  },
  {
   "cell_type": "markdown",
   "metadata": {},
   "source": [
    "Print the names of the astronauts currently on ISS.\n"
   ]
  },
  {
   "cell_type": "code",
   "execution_count": null,
   "metadata": {},
   "outputs": [],
   "source": [
    "astronauts = data.get('people')\n",
    "print(\"There are {} astronauts on ISS\".format(len(astronauts)))\n",
    "print(\"And their names are :\")\n",
    "for astronaut in astronauts:\n",
    "    print(astronaut.get('name'))"
   ]
  },
  {
   "cell_type": "markdown",
   "metadata": {},
   "source": [
    "Hope the warmup was helpful. Good luck with your next lab!\n"
   ]
  },
  {
   "cell_type": "markdown",
   "metadata": {},
   "source": [
    "## Lab: Collect Jobs Data using GitHub Jobs API\n"
   ]
  },
  {
   "cell_type": "markdown",
   "metadata": {},
   "source": [
    "### Objective: Determine the number of jobs currently open for various technologies  and for various locations\n"
   ]
  },
  {
   "cell_type": "markdown",
   "metadata": {},
   "source": [
    "Collect the number of job postings for the following locations using the API:\n",
    "\n",
    "* Los Angeles\n",
    "* New York\n",
    "* San Francisco\n",
    "* Washington DC\n",
    "* Seattle\n",
    "* Austin\n",
    "* Detroit\n"
   ]
  },
  {
   "cell_type": "markdown",
   "metadata": {
    "jp-MarkdownHeadingCollapsed": true,
    "tags": []
   },
   "source": [
    "#### Write a function to get the number of jobs for the Python technology.<br>\n",
    "> Note: While using the lab you need to pass the **payload** information for the **params** attribute in the form of **key** **value** pairs.\n",
    "  Refer the ungraded **rest api lab** in the course **Python for Data Science, AI & Development**  <a href=\"https://www.coursera.org/learn/python-for-applied-data-science-ai/ungradedLti/P6sW8/hands-on-lab-access-rest-apis-request-http?utm_medium=Exinfluencer&utm_source=Exinfluencer&utm_content=000026UJ&utm_term=10006555&utm_id=NA-SkillsNetwork-Channel-SkillsNetworkCoursesIBMDA0321ENSkillsNetwork928-2022-01-01\">link</a>\n",
    "  \n",
    " ##### The keys in the json are \n",
    " * Job Title\n",
    " \n",
    " * Job Experience Required\n",
    " \n",
    " * Key Skills\n",
    " \n",
    " * Role Category\n",
    " \n",
    " * Location\n",
    " \n",
    " * Functional Area\n",
    " \n",
    " * Industry\n",
    " \n",
    " * Role \n",
    " \n",
    "You can also view  the json file contents  from the following <a href = \"https://cf-courses-data.s3.us.cloud-object-storage.appdomain.cloud/IBM-DA0321EN-SkillsNetwork/labs/module%201/Accessing%20Data%20Using%20APIs/jobs.json\">json</a> URL.\n",
    "\n"
   ]
  },
  {
   "cell_type": "markdown",
   "metadata": {},
   "source": [
    "Calling the function for Python and checking if it works.\n"
   ]
  },
  {
   "cell_type": "markdown",
   "metadata": {},
   "source": [
    "#### Write a function to find number of jobs in US for a location of your choice\n"
   ]
  },
  {
   "cell_type": "code",
   "execution_count": 178,
   "metadata": {},
   "outputs": [
    {
     "name": "stdin",
     "output_type": "stream",
     "text": [
      "Once deleted, variables cannot be recovered. Proceed (y/[n])?  y\n"
     ]
    }
   ],
   "source": [
    "%reset"
   ]
  },
  {
   "cell_type": "code",
   "execution_count": 1,
   "metadata": {},
   "outputs": [
    {
     "name": "stdout",
     "output_type": "stream",
     "text": [
      "Python 3.12.62024-10-24 14:43:45.920612\n",
      "\n"
     ]
    }
   ],
   "source": [
    "#Import required libraries\n",
    "import os\n",
    "import json\n",
    "import requests\n",
    "import datetime\n",
    "import time\n",
    "from openpyxl import Workbook        # import Workbook class from module openpyxl\n",
    "def prnow():\n",
    "    print(datetime.datetime.now())\n",
    "!python --version\n",
    "prnow()\n"
   ]
  },
  {
   "cell_type": "code",
   "execution_count": 2,
   "metadata": {},
   "outputs": [],
   "source": [
    "## Useful debugging functions\n",
    "#!pip install -U varname\n",
    "from varname import argname\n",
    "myDEBUG = True\n",
    "import pandas as pd\n",
    "df = pd.DataFrame()\n",
    "def prdf(ldf):\n",
    "    if myDEBUG == True:\n",
    "        print('prdf says: type of ', argname('ldf'), ' is ', type(ldf))\n",
    "        print(argname('ldf'), type(ldf))\n",
    "        print(ldf.shape)\n",
    "        print(ldf.columns)\n",
    "        print(ldf.head(3))\n",
    "        # print(ldf.index.name)  # may not have one\n",
    "def prd(debuggy):  # print data\n",
    "    if myDEBUG == True:\n",
    "        print('prd says: type of ', argname('debuggy'), ' is ', type(debuggy))\n",
    "        print(argname('debuggy'), ' is ', debuggy, ' end of prd ', \\\n",
    "              argname('debuggy'), '\\n')\n",
    "def prld(debuggy,limit=200):  # print limited data, works for string, 200 chars\n",
    "    if myDEBUG == True:\n",
    "        print('prld says: type of ', argname('debuggy'), ' is ', type(debuggy))\n",
    "        print(argname('debuggy'), ' is ', debuggy[0:limit], ' end of prld ', \\\n",
    "                  argname('debuggy'), '\\n')\n",
    "def prlns(listy,limit=10):\n",
    "    if myDEBUG == True:\n",
    "        print('prlns, limit = ', limit)\n",
    "        cnt = 0\n",
    "        for i in range(0, len(listy)):\n",
    "            cnt += 1\n",
    "            if cnt <= limit:\n",
    "                print('prlns ', i, ' ', argname('listy'), 'is:', listy)\n",
    "            else:\n",
    "                break\n",
    "        print('end prlns ', argname('listy'))\n",
    "def prdlns(idict, limit=5):\n",
    "    if myDEBUG == True:\n",
    "        print('prdlns to print dictionary, default limit is 5 items')\n",
    "        cnt = 0\n",
    "        for k,v in idict.items():\n",
    "            cnt = cnt + 1\n",
    "            if cnt <= limit:\n",
    "                print('prdlns ', cnt, ' idict[',  k, '] = ', v)\n",
    "            else:\n",
    "                break\n",
    "loglist = []\n",
    "def writelog(logfile):\n",
    "    # debugging - write loglist to file to do cygwin more, grep etc\n",
    "    fplogfile=os.path.join(os.getcwd(), logfile)\n",
    "    with open(fplogfile, 'w+') as f:\n",
    "        for ln in loglist:\n",
    "            f.write(ln + '\\n')\n",
    "def normstr(x):  \n",
    "    y = re.sub(' +', '', x).lower().strip()\n",
    "    return y\n",
    "def prnow():\n",
    "    print(datetime.datetime.now())"
   ]
  },
  {
   "cell_type": "code",
   "execution_count": 3,
   "metadata": {},
   "outputs": [
    {
     "name": "stdout",
     "output_type": "stream",
     "text": [
      "response.headers= {'Server': 'Werkzeug/3.0.4 Python/3.12.6', 'Date': 'Thu, 24 Oct 2024 19:43:50 GMT', 'Content-Type': 'application/json', 'Content-Length': '11557287', 'Connection': 'close'}\n",
      "type of response.json() =  <class 'list'>\n",
      "type(response.json()[0:]) is  <class 'dict'>\n",
      "len of data is  27005\n"
     ]
    }
   ],
   "source": [
    "data = {}\n",
    "api_url=\"http://127.0.0.1:5000/data/all\"\n",
    "response = requests.get(api_url)\n",
    "if response.ok:\n",
    "    #print('encoding is ', response.encoding)\n",
    "    print('response.headers=', response.headers)\n",
    "    #print('response.request.headers=', response.request.headers)\n",
    "    #print('type of response.text = ', type(response.text))\n",
    "    #print('type of response.content = ', type(response.content))\n",
    "    print('type of response.json() = ', type(response.json()))  # it says type list\n",
    "    print('type(response.json()[0:]) is ', type(response.json()[0]))\n",
    "    data = response.json() # it is decoded, but still a string, no, finally a dict\n",
    "    #datadict = response.json()[0]  # this gets the type dict, but just 1 record at a time\n",
    "    print('len of data is ', len(data)) # it is a list of dicts, need [0] - whatever\n",
    "else:\n",
    "    print('Not OK, response.status_code=', response.status_code)\n"
   ]
  },
  {
   "cell_type": "code",
   "execution_count": 4,
   "metadata": {},
   "outputs": [],
   "source": [
    "# Normalize strings for the requested technologies and locations\n",
    "import regex\n",
    "import re \n",
    "origtechylist = ['C#','C++','JavaScript','Java','Python','Sclala','Oracle','SQL Server','MySQL Server',\n",
    "                 'PostgreSQL','MongoDB','C']\n",
    "techlist = []\n",
    "for i in origtechylist:\n",
    "    i = normstr(i)\n",
    "    techlist.append(i)\n",
    "origloclist = ['Los Angeles','San Francisco','Washington DC','Seattle',\n",
    "           'Austin','Detroit','New York','Boston']\n",
    "loclist = []\n",
    "for i in origloclist:\n",
    "    i = normstr(i)\n",
    "    loclist.append(i)\n"
   ]
  },
  {
   "cell_type": "code",
   "execution_count": 5,
   "metadata": {},
   "outputs": [],
   "source": [
    "# Because C is just one letter, to find and count it, break the\n",
    "# Key skills into a list delimited by |\n",
    "def processC(keyskills):\n",
    "    ksl = keyskills.split('|')\n",
    "    for ii in ksl:\n",
    "        if ii.upper() == \"C\":\n",
    "            return True\n",
    "    return False\n"
   ]
  },
  {
   "cell_type": "code",
   "execution_count": 6,
   "metadata": {},
   "outputs": [
    {
     "name": "stdout",
     "output_type": "stream",
     "text": [
      "python :   1173\n",
      "c# :   526\n",
      "c++ :   506\n",
      "javascript :   2264\n",
      "java :   3428\n",
      "python :   1173\n",
      "sclala :   0\n",
      "oracle :   899\n",
      "sqlserver :   425\n",
      "mysqlserver :   0\n",
      "postgresql :   87\n",
      "mongodb :   209\n",
      "c :   817\n",
      "Total number of jobs for techlist =  10334\n"
     ]
    }
   ],
   "source": [
    "MAXROWS = 50000 # for testing\n",
    "def get_number_of_jobs_T(technology):  # any tech, not just in techlist\n",
    "    linenbr = 0\n",
    "    global total\n",
    "    tech = normstr(technology)\n",
    "    number_of_jobs = 0\n",
    "    for line in data:\n",
    "        linenbr += 1\n",
    "        sk = line.get('Key Skills')\n",
    "        skn = normstr(sk)\n",
    "        #loglist.append('tech is ' + tech + '\\n')\n",
    "        if tech == 'c':   \n",
    "            if processC(skn) == True:  # special case since 'C' is just 1 letter\n",
    "                number_of_jobs += 1\n",
    "        else:\n",
    "            if tech in skn:\n",
    "                number_of_jobs += 1\n",
    "        if linenbr >= MAXROWS:\n",
    "            break\n",
    "    #print('get_number_of_jobs_T: data lines processed = ', linenbr)\n",
    "    return technology, number_of_jobs\n",
    "\n",
    "desiredtech, count = get_number_of_jobs_T('python')\n",
    "print(desiredtech, ':  ', count)\n",
    "\n",
    "loglist = []\n",
    "total = 0\n",
    "for i in techlist:\n",
    "    t, count = get_number_of_jobs_T(i)\n",
    "    total = total + count\n",
    "    print(t, ':  ', count)\n",
    "print('Total number of jobs for techlist = ',total)\n"
   ]
  },
  {
   "cell_type": "code",
   "execution_count": 7,
   "metadata": {},
   "outputs": [],
   "source": [
    "#your code goes here\n",
    "def get_number_of_jobs_L(location):  # way way 2, only get for the previous desired tech\n",
    "    #print('desired tech is ', desiredtech, ' getting locations for just this tech')\n",
    "    dtech = normstr(desiredtech)\n",
    "    locn = normstr(location)\n",
    "    number_of_jobs = 0\n",
    "    for line in data:\n",
    "        locd = line.get('Location')\n",
    "        locdn = normstr(locd)\n",
    "        if locn in locdn:\n",
    "            skills = line.get('Key Skills')\n",
    "            skills = normstr(skills)\n",
    "            loglist.append('tech=' + dtech + ' locn=' + locn)\n",
    "            if dtech == 'c':\n",
    "                if processC(skills) == True:\n",
    "                    number_of_jobs += 1\n",
    "            else:\n",
    "                if dtech in skills:\n",
    "                    number_of_jobs += 1\n",
    "    return location, number_of_jobs\n"
   ]
  },
  {
   "cell_type": "code",
   "execution_count": 8,
   "metadata": {},
   "outputs": [
    {
     "name": "stdout",
     "output_type": "stream",
     "text": [
      "Los Angeles :  24 desired tech= python\n"
     ]
    }
   ],
   "source": [
    "# Call the function for Los Angeles and check if it is working.\n",
    "# desiredtech was set for get_number_of_jobs_T but reinit it\n",
    "desiredtech = 'python'\n",
    "myloc, mycount = get_number_of_jobs_L('Los Angeles')  # aka L_2\n",
    "print(myloc, ': ', mycount, 'desired tech=', desiredtech)\n"
   ]
  },
  {
   "cell_type": "code",
   "execution_count": 9,
   "metadata": {},
   "outputs": [
    {
     "name": "stdout",
     "output_type": "stream",
     "text": [
      "get different locations for the desired technologies\n",
      "Los Angeles :  Python :  24\n",
      "San Francisco :  Python :  17\n",
      "Washington DC :  Python :  258\n",
      "Seattle :  Python :  133\n",
      "Austin :  Python :  15\n",
      "Detroit :  Python :  170\n",
      "New York :  Python :  143\n",
      "Boston :  Python :  129\n",
      "get different techs for desired location\n",
      "Los Angeles :  c# :  7\n",
      "Los Angeles :  c++ :  7\n",
      "Los Angeles :  javascript :  47\n",
      "Los Angeles :  java :  64\n",
      "Los Angeles :  python :  24\n",
      "Los Angeles :  sclala :  0\n",
      "Los Angeles :  oracle :  22\n",
      "Los Angeles :  sqlserver :  12\n",
      "Los Angeles :  mysqlserver :  0\n",
      "Los Angeles :  postgresql :  0\n",
      "Los Angeles :  mongodb :  4\n",
      "Los Angeles :  c :  12\n"
     ]
    }
   ],
   "source": [
    "#### Below was just for fun practice python coding\n",
    "# different interpretations\n",
    "loglist = []\n",
    "# get different locations for the desired tech\n",
    "print('get different locations for the desired technologies')\n",
    "desiredtech = 'Python'\n",
    "total = 0\n",
    "for lc in origloclist:\n",
    "    myloc, mycount = get_number_of_jobs_L(lc)  # aka L_2\n",
    "    print(myloc, ': ', desiredtech, ': ', str(mycount))\n",
    "    loglist.append('L_2:' + myloc + ' ' + desiredtech + ' ' + str(mycount))\n",
    "# get different techs for desiredloc\n",
    "print('get different techs for desired location')\n",
    "loglist.append('Get all techs for given location')\n",
    "desiredloc = 'Los Angeles'\n",
    "desiredtech = ''\n",
    "total = 0\n",
    "for desiredtech in techlist:\n",
    "    myloc, mycount = get_number_of_jobs_L(desiredloc)  # aka L_2\n",
    "    print(myloc, ': ', desiredtech, ': ', str(mycount))\n",
    "    loglist.append('L_2:' + myloc + ' ' + desiredtech + ' ' + str(mycount))\n",
    "writelog('L_2.txt')  # for debugging or results from L2\n"
   ]
  },
  {
   "cell_type": "markdown",
   "metadata": {},
   "source": [
    "### Store the results in an excel file\n"
   ]
  },
  {
   "cell_type": "markdown",
   "metadata": {},
   "source": [
    "Call the API for all the given technologies above and write the results in an excel spreadsheet.\n"
   ]
  },
  {
   "cell_type": "code",
   "execution_count": 34,
   "metadata": {},
   "outputs": [
    {
     "name": "stdout",
     "output_type": "stream",
     "text": [
      "Get all techlist for all origloclist, write to github-job-postings.xlsx\n",
      "Please wait for the timestamp to be printed\n",
      "2024-10-24 14:32:05.135951\n"
     ]
    }
   ],
   "source": [
    "# Write Excel File - cells with steps are below this cell\n",
    "myfile = 'github-job-postings.xlsx'\n",
    "fpfn=os.path.join(os.getcwd(), myfile)\n",
    "loglist = []\n",
    "MAXROWS = 50000\n",
    "cnt = 0\n",
    "print('Get all techlist for all origloclist, write to github-job-postings.xlsx')\n",
    "print('Please wait for the timestamp to be printed')\n",
    "wb=Workbook()                        # create a workbook object\n",
    "ws=wb.active                         # use the active worksheet\n",
    "ws.title = 'Job Postings'\n",
    "cols = ['Location'.upper(),'Technology'.upper(),'Counts'.upper()]\n",
    "ws.append(cols)\n",
    "\n",
    "for locy in origloclist:\n",
    "    for desiredtech in techlist:\n",
    "        myloc, mycount = get_number_of_jobs_L(locy)  # aka L_2\n",
    "        ws.append([myloc, desiredtech, str(mycount)])\n",
    "        #print(myloc, ': ', desiredtech, ': ', str(mycount))\n",
    "        loglist.append('L_2:' + myloc + ' ' + desiredtech + ' ' + str(mycount))  \n",
    "    cnt += 1\n",
    "    if cnt >= MAXROWS:\n",
    "        break\n",
    "wb.save(fpfn)\n",
    "writelog('logfromdict.txt')\n",
    "prnow()\n"
   ]
  },
  {
   "cell_type": "markdown",
   "metadata": {},
   "source": [
    "If you do not know how create excel file using python, double click here for **hints**.\n",
    "\n",
    "<!--\n",
    "#!pip install openpyxl\n",
    "from openpyxl import Workbook        # import Workbook class from module openpyxl\n",
    "wb=Workbook()                        # create a workbook object\n",
    "ws=wb.active                         # use the active worksheet\n",
    "ws.append(['Country','Continent'])   # add a row with two columns 'Country' and 'Continent'\n",
    "ws.append(['Eygpt','Africa'])        # add a row with two columns 'Egypt' and 'Africa'\n",
    "ws.append(['India','Asia'])          # add another row\n",
    "ws.append(['France','Europe'])       # add another row\n",
    "wb.save(\"countries.xlsx\")            # save the workbook into a file called countries.xlsx\n",
    "\n",
    "\n",
    "-->\n"
   ]
  },
  {
   "cell_type": "markdown",
   "metadata": {},
   "source": [
    "Import libraries required to create excel spreadsheet\n"
   ]
  },
  {
   "cell_type": "code",
   "execution_count": 10,
   "metadata": {},
   "outputs": [],
   "source": [
    "# your code goes here\n",
    "from openpyxl import Workbook"
   ]
  },
  {
   "cell_type": "markdown",
   "metadata": {},
   "source": [
    "Create a workbook and select the active worksheet\n"
   ]
  },
  {
   "cell_type": "code",
   "execution_count": 11,
   "metadata": {},
   "outputs": [],
   "source": [
    "# your code goes here\n",
    "wb=Workbook()                        # create a workbook object\n",
    "ws=wb.active                         # use the active worksheet\n",
    "ws.title = 'Job Postings'\n",
    "cols = ['Location'.upper(),'Technology'.upper(),'Counts'.upper()]\n",
    "ws.append(cols)\n"
   ]
  },
  {
   "cell_type": "markdown",
   "metadata": {},
   "source": [
    "Find the number of jobs postings for each of the technology in the above list.\n",
    "Write the technology name and the number of jobs postings into the excel spreadsheet.\n"
   ]
  },
  {
   "cell_type": "code",
   "execution_count": 12,
   "metadata": {},
   "outputs": [],
   "source": [
    "#your code goes here\n",
    "for locy in origloclist:\n",
    "    for desiredtech in techlist:\n",
    "        myloc, mycount = get_number_of_jobs_L(locy)  # aka L_2\n",
    "        ws.append([myloc, desiredtech, str(mycount)])\n"
   ]
  },
  {
   "cell_type": "markdown",
   "metadata": {},
   "source": [
    "Save into an excel spreadsheet named 'github-job-postings.xlsx'.\n",
    "with pd.ExcelWriter(pathfn) as writer:  \n",
    "    locskilltable.to_excel(writer, sheet_name='LocationsByTechnologies')\n"
   ]
  },
  {
   "cell_type": "code",
   "execution_count": 13,
   "metadata": {},
   "outputs": [],
   "source": [
    "#your code goes here\n",
    "myfile = 'github-job-postings.xlsx'\n",
    "fpfn=os.path.join(os.getcwd(), myfile)\n",
    "wb.save(fpfn)\n"
   ]
  },
  {
   "cell_type": "markdown",
   "metadata": {},
   "source": [
    "#### In the similar way, you can try for below given technologies and results  can be stored in an excel sheet.\n"
   ]
  },
  {
   "cell_type": "markdown",
   "metadata": {},
   "source": [
    "Collect the number of job postings for the following languages using the API:\n",
    "\n",
    "*   C\n",
    "*   C#\n",
    "*   C++\n",
    "*   Java\n",
    "*   JavaScript\n",
    "*   Python\n",
    "*   Scala\n",
    "*   Oracle\n",
    "*   SQL Server\n",
    "*   MySQL Server\n",
    "*   PostgreSQL\n",
    "*   MongoDB\n"
   ]
  },
  {
   "cell_type": "code",
   "execution_count": null,
   "metadata": {},
   "outputs": [],
   "source": [
    "# your code goes here\n",
    "# already done"
   ]
  },
  {
   "cell_type": "code",
   "execution_count": 19,
   "metadata": {},
   "outputs": [
    {
     "name": "stdout",
     "output_type": "stream",
     "text": [
      "len(data) is  27005\n",
      "2024-10-24 11:34:43.915982\n"
     ]
    }
   ],
   "source": [
    "# Verfiy results using bash script with greps\n",
    "# First turn the record format into lines\n",
    "myfile = 'joblines.txt'\n",
    "fileout = os.path.join(os.getcwd(), myfile)\n",
    "MAXROWS = 50000\n",
    "cnt = 0\n",
    "print('len(data) is ', len(data))\n",
    "with open(fileout, 'w+') as fo:\n",
    "    for line in data:  # use strings, if lots of keys, build a list and ','.join and write\n",
    "        outstr1 = f'\"Id\":\"{str(line['Id'])}\"'\n",
    "        outstr2 = f'\"Location\":\"{line['Location']}\"'\n",
    "        outstr3 = f'\"Key Skills\":\"{line['Key Skills']}\"'\n",
    "        #print(outstr,outstr2,outstr3)\n",
    "        outstr = f\"{outstr1},{outstr2},{outstr3}\\n\"\n",
    "        fo.write(outstr)\n",
    "        cnt += 1\n",
    "        if cnt > MAXROWS:\n",
    "            break\n",
    "prnow()\n"
   ]
  },
  {
   "cell_type": "markdown",
   "metadata": {},
   "source": [
    "## Authors\n"
   ]
  },
  {
   "cell_type": "markdown",
   "metadata": {},
   "source": [
    "Ayushi Jain\n"
   ]
  },
  {
   "cell_type": "markdown",
   "metadata": {},
   "source": [
    "### Other Contributors\n"
   ]
  },
  {
   "cell_type": "markdown",
   "metadata": {},
   "source": [
    "Rav Ahuja\n",
    "\n",
    "Lakshmi Holla\n",
    "\n",
    "Malika\n"
   ]
  },
  {
   "cell_type": "markdown",
   "metadata": {},
   "source": [
    "Copyright © 2020 IBM Corporation. This notebook and its source code are released under the terms of the [MIT License](https://cognitiveclass.ai/mit-license?utm_medium=Exinfluencer\\&utm_source=Exinfluencer\\&utm_content=000026UJ\\&utm_term=10006555\\&utm_id=NA-SkillsNetwork-Channel-SkillsNetworkCoursesIBMDA0321ENSkillsNetwork21426264-2021-01-01\\&cm_mmc=Email_Newsletter-\\_-Developer_Ed%2BTech-\\_-WW_WW-\\_-SkillsNetwork-Courses-IBM-DA0321EN-SkillsNetwork-21426264\\&cm_mmca1=000026UJ\\&cm_mmca2=10006555\\&cm_mmca3=M12345678\\&cvosrc=email.Newsletter.M12345678\\&cvo_campaign=000026UJ).\n"
   ]
  },
  {
   "cell_type": "markdown",
   "metadata": {},
   "source": [
    "<!--## Change Log\n"
   ]
  },
  {
   "cell_type": "markdown",
   "metadata": {},
   "source": [
    "<!--| Date (YYYY-MM-DD) | Version | Changed By        | Change Description                 |\n",
    "| ----------------- | ------- | ----------------- | ---------------------------------- | \n",
    "| 2022-01-19        | 0.3     | Lakshmi Holla        | Added changes in the markdown      |\n",
    "| 2021-06-25        | 0.2     | Malika            | Updated GitHub job json link       |\n",
    "| 2020-10-17        | 0.1     | Ramesh Sannareddy | Created initial version of the lab |--!>\n"
   ]
  }
 ],
 "metadata": {
  "kernelspec": {
   "display_name": "Python 3 (ipykernel)",
   "language": "python",
   "name": "python3"
  },
  "language_info": {
   "codemirror_mode": {
    "name": "ipython",
    "version": 3
   },
   "file_extension": ".py",
   "mimetype": "text/x-python",
   "name": "python",
   "nbconvert_exporter": "python",
   "pygments_lexer": "ipython3",
   "version": "3.12.6"
  },
  "prev_pub_hash": "c4d9a957e70e09027735f73df3308c8386dea312a4960cb2534d8e6ade9a49cc"
 },
 "nbformat": 4,
 "nbformat_minor": 4
}
