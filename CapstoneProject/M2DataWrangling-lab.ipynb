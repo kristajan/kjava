{
 "cells": [
  {
   "cell_type": "markdown",
   "metadata": {},
   "source": [
    "<p style=\"text-align:center\">\n",
    "    <a href=\"https://skills.network/?utm_medium=Exinfluencer&utm_source=Exinfluencer&utm_content=000026UJ&utm_term=10006555&utm_id=NA-SkillsNetwork-Channel-SkillsNetworkCoursesIBMDA0321ENSkillsNetwork928-2022-01-01\" target=\"_blank\">\n",
    "    <img src=\"https://cf-courses-data.s3.us.cloud-object-storage.appdomain.cloud/assets/logos/SN_web_lightmode.png\" width=\"400\" alt=\"Skills Network Logo\"  />\n",
    "    </a>\n",
    "</p>\n"
   ]
  },
  {
   "cell_type": "markdown",
   "metadata": {},
   "source": [
    "# **Data Wrangling Lab**\n"
   ]
  },
  {
   "cell_type": "markdown",
   "metadata": {},
   "source": [
    "Estimated time needed: **45 to 60** minutes\n"
   ]
  },
  {
   "cell_type": "markdown",
   "metadata": {},
   "source": [
    "In this assignment you will be performing data wrangling.\n"
   ]
  },
  {
   "cell_type": "markdown",
   "metadata": {},
   "source": [
    "## Objectives\n"
   ]
  },
  {
   "cell_type": "markdown",
   "metadata": {},
   "source": [
    "In this lab you will perform the following:\n"
   ]
  },
  {
   "cell_type": "markdown",
   "metadata": {},
   "source": [
    "-   Identify duplicate values in the dataset.\n",
    "\n",
    "-   Remove duplicate values from the dataset.\n",
    "\n",
    "-   Identify missing values in the dataset.\n",
    "\n",
    "-   Impute the missing values in the dataset.\n",
    "\n",
    "-   Normalize data in the dataset.\n"
   ]
  },
  {
   "cell_type": "markdown",
   "metadata": {},
   "source": [
    "<hr>\n"
   ]
  },
  {
   "cell_type": "markdown",
   "metadata": {},
   "source": [
    "## Hands on Lab\n"
   ]
  },
  {
   "cell_type": "markdown",
   "metadata": {},
   "source": [
    "Import pandas module.\n"
   ]
  },
  {
   "cell_type": "code",
   "execution_count": 1,
   "metadata": {},
   "outputs": [],
   "source": [
    "import pandas as pd\n",
    "import numpy as np"
   ]
  },
  {
   "cell_type": "markdown",
   "metadata": {},
   "source": [
    "Load the dataset into a dataframe.\n"
   ]
  },
  {
   "cell_type": "markdown",
   "metadata": {},
   "source": [
    "<h2>Read Data</h2>\n",
    "<p>\n",
    "We utilize the <code>pandas.read_csv()</code> function for reading CSV files. However, in this version of the lab, which operates on JupyterLite, the dataset needs to be downloaded to the interface using the provided code below.\n",
    "</p>\n"
   ]
  },
  {
   "cell_type": "markdown",
   "metadata": {},
   "source": [
    "The functions below will download the dataset into your browser:\n"
   ]
  },
  {
   "cell_type": "code",
   "execution_count": 9,
   "metadata": {},
   "outputs": [],
   "source": [
    "'''\n",
    "from pyodide.http import pyfetch\n",
    "\n",
    "async def download(url, filename):\n",
    "    response = await pyfetch(url)\n",
    "    if response.status == 200:\n",
    "        with open(filename, \"wb\") as f:\n",
    "            f.write(await response.bytes())\n",
    "''';"
   ]
  },
  {
   "cell_type": "code",
   "execution_count": 32,
   "metadata": {},
   "outputs": [],
   "source": [
    "#file_path = \"https://cf-courses-data.s3.us.cloud-object-storage.appdomain.cloud/IBM-DA0321EN-SkillsNetwork/LargeData/m1_survey_data.csv\""
   ]
  },
  {
   "cell_type": "markdown",
   "metadata": {},
   "source": [
    "To obtain the dataset, utilize the download() function as defined above:  \n"
   ]
  },
  {
   "cell_type": "code",
   "execution_count": 10,
   "metadata": {},
   "outputs": [],
   "source": [
    "#await download(file_path, \"m1_survey_data.csv\")\n"
   ]
  },
  {
   "cell_type": "markdown",
   "metadata": {},
   "source": [
    "Utilize the Pandas method read_csv() to load the data into a dataframe.\n"
   ]
  },
  {
   "cell_type": "code",
   "execution_count": 2,
   "metadata": {},
   "outputs": [
    {
     "name": "stdout",
     "output_type": "stream",
     "text": [
      "(11552, 85)\n",
      "(11552, 85)\n"
     ]
    }
   ],
   "source": [
    "import os\n",
    "file_name=\"m1_survey_data.csv\"\n",
    "fpfn=os.path.join(os.getcwd(), file_name)\n",
    "dfall = pd.read_csv(fpfn)\n",
    "print(dfall.shape)\n",
    "df = dfall.copy()  # in case the dataset is very large, don't want to re-read\n",
    "print(df.shape)"
   ]
  },
  {
   "cell_type": "markdown",
   "metadata": {},
   "source": [
    "> Note: This version of the lab is working on JupyterLite, which requires the dataset to be downloaded to the interface.While working on the downloaded version of this notebook on their local machines(Jupyter Anaconda), the learners can simply **skip the steps above,** and simply use the URL directly in the `pandas.read_csv()` function. You can uncomment and run the statements in the cell below.\n"
   ]
  },
  {
   "cell_type": "code",
   "execution_count": 96,
   "metadata": {},
   "outputs": [],
   "source": [
    "#df = pd.read_csv(\"https://cf-courses-data.s3.us.cloud-object-storage.appdomain.cloud/IBM-DA0321EN-SkillsNetwork/LargeData/m1_survey_data.csv\")"
   ]
  },
  {
   "cell_type": "markdown",
   "metadata": {},
   "source": [
    "## Finding duplicates\n"
   ]
  },
  {
   "cell_type": "markdown",
   "metadata": {},
   "source": [
    "In this section you will identify duplicate values in the dataset.\n"
   ]
  },
  {
   "cell_type": "markdown",
   "metadata": {},
   "source": [
    " Find how many duplicate rows exist in the dataframe.\n"
   ]
  },
  {
   "cell_type": "code",
   "execution_count": 3,
   "metadata": {},
   "outputs": [
    {
     "name": "stdout",
     "output_type": "stream",
     "text": [
      "(154, 85)\n",
      "1168    2339\n",
      "1169    2342\n",
      "1170    2343\n",
      "1171    2344\n",
      "1172    2347\n",
      "        ... \n",
      "2297    4674\n",
      "2298    4675\n",
      "2299    4676\n",
      "2300    4677\n",
      "2301    4679\n",
      "Name: Respondent, Length: 154, dtype: int64\n"
     ]
    }
   ],
   "source": [
    "# your code goes here\n",
    "dups = df[df.duplicated() == True]\n",
    "print(dups.shape)\n",
    "print(dups['Respondent'])\n"
   ]
  },
  {
   "cell_type": "markdown",
   "metadata": {},
   "source": [
    "## Removing duplicates\n"
   ]
  },
  {
   "cell_type": "markdown",
   "metadata": {},
   "source": [
    "Remove the duplicate rows from the dataframe.\n"
   ]
  },
  {
   "cell_type": "code",
   "execution_count": 4,
   "metadata": {},
   "outputs": [],
   "source": [
    "# your code goes here\n",
    "df = df.drop_duplicates(keep='last')\n",
    "df = df.reset_index(drop=True)"
   ]
  },
  {
   "cell_type": "markdown",
   "metadata": {},
   "source": [
    "Verify if duplicates were actually dropped.\n"
   ]
  },
  {
   "cell_type": "code",
   "execution_count": 5,
   "metadata": {},
   "outputs": [
    {
     "name": "stdout",
     "output_type": "stream",
     "text": [
      "(11398, 85)\n",
      "0\n"
     ]
    }
   ],
   "source": [
    "# your code goes here\n",
    "print(df.shape)\n",
    "print(len(df[df.duplicated() == True]))"
   ]
  },
  {
   "cell_type": "markdown",
   "metadata": {},
   "source": [
    "## Finding Missing values\n"
   ]
  },
  {
   "cell_type": "markdown",
   "metadata": {},
   "source": [
    "Find the missing values for all columns.\n"
   ]
  },
  {
   "cell_type": "code",
   "execution_count": 6,
   "metadata": {},
   "outputs": [
    {
     "name": "stdout",
     "output_type": "stream",
     "text": [
      "       Respondent  MainBranch  Hobbyist  OpenSourcer  OpenSource  Employment  \\\n",
      "0           False       False     False        False       False       False   \n",
      "1           False       False     False        False       False       False   \n",
      "2           False       False     False        False       False       False   \n",
      "3           False       False     False        False       False       False   \n",
      "4           False       False     False        False       False       False   \n",
      "...           ...         ...       ...          ...         ...         ...   \n",
      "11393       False       False     False        False       False       False   \n",
      "11394       False       False     False        False       False       False   \n",
      "11395       False       False     False        False       False       False   \n",
      "11396       False       False     False        False       False       False   \n",
      "11397       False       False     False        False       False       False   \n",
      "\n",
      "       Country  Student  EdLevel  UndergradMajor  ...  WelcomeChange  \\\n",
      "0        False    False    False           False  ...          False   \n",
      "1        False    False    False           False  ...          False   \n",
      "2        False    False    False           False  ...          False   \n",
      "3        False    False    False            True  ...          False   \n",
      "4        False    False    False           False  ...          False   \n",
      "...        ...      ...      ...             ...  ...            ...   \n",
      "11393    False    False    False           False  ...          False   \n",
      "11394    False    False    False           False  ...          False   \n",
      "11395    False    False    False           False  ...          False   \n",
      "11396    False    False    False            True  ...          False   \n",
      "11397    False    False    False           False  ...          False   \n",
      "\n",
      "       SONewContent    Age  Gender  Trans  Sexuality  Ethnicity  Dependents  \\\n",
      "0             False  False   False  False      False      False       False   \n",
      "1              True  False   False  False      False      False       False   \n",
      "2             False  False   False  False      False      False       False   \n",
      "3             False  False   False  False      False      False       False   \n",
      "4             False  False   False  False      False      False       False   \n",
      "...             ...    ...     ...    ...        ...        ...         ...   \n",
      "11393         False  False   False  False      False      False       False   \n",
      "11394         False  False   False  False      False      False       False   \n",
      "11395         False  False   False  False      False      False       False   \n",
      "11396          True  False   False  False      False      False       False   \n",
      "11397         False  False   False  False      False      False       False   \n",
      "\n",
      "       SurveyLength  SurveyEase  \n",
      "0             False       False  \n",
      "1             False       False  \n",
      "2             False       False  \n",
      "3             False       False  \n",
      "4             False       False  \n",
      "...             ...         ...  \n",
      "11393         False       False  \n",
      "11394         False       False  \n",
      "11395         False       False  \n",
      "11396         False       False  \n",
      "11397         False       False  \n",
      "\n",
      "[11398 rows x 85 columns]\n"
     ]
    }
   ],
   "source": [
    "# your code goes here\n",
    "print(df.isnull())  # correctly printing False\n"
   ]
  },
  {
   "cell_type": "markdown",
   "metadata": {},
   "source": [
    "Find out how many rows are missing in the column 'WorkLoc'\n"
   ]
  },
  {
   "cell_type": "code",
   "execution_count": 19,
   "metadata": {},
   "outputs": [
    {
     "name": "stdout",
     "output_type": "stream",
     "text": [
      "0\n",
      "0\n",
      "112\n"
     ]
    }
   ],
   "source": [
    "# your code goes here\n",
    "missr = df[df['WorkLoc'].isnull()]\n",
    "print(len(missr))\n",
    "missy = df[df['Respondent'].isnull()]\n",
    "print(len(missy))\n",
    "print(len(df[df['EdLevel'].isnull()] ))"
   ]
  },
  {
   "cell_type": "markdown",
   "metadata": {},
   "source": [
    "## Imputing missing values\n"
   ]
  },
  {
   "cell_type": "markdown",
   "metadata": {},
   "source": [
    "Find the  value counts for the column WorkLoc.\n"
   ]
  },
  {
   "cell_type": "code",
   "execution_count": 8,
   "metadata": {},
   "outputs": [
    {
     "name": "stdout",
     "output_type": "stream",
     "text": [
      "WorkLoc\n",
      "Office                                            6806\n",
      "Home                                              3589\n",
      "Other place, such as a coworking space or cafe     971\n",
      "Name: count, dtype: int64\n"
     ]
    }
   ],
   "source": [
    "# your code goes here\n",
    "print(df.value_counts('WorkLoc'))"
   ]
  },
  {
   "cell_type": "markdown",
   "metadata": {},
   "source": [
    "Identify the value that is most frequent (majority) in the WorkLoc column.\n"
   ]
  },
  {
   "cell_type": "code",
   "execution_count": 60,
   "metadata": {},
   "outputs": [],
   "source": [
    "#make a note of the majority value here, for future reference\n",
    "#Ofc 6806, Hm 3589, other 971\n"
   ]
  },
  {
   "cell_type": "markdown",
   "metadata": {},
   "source": [
    "Impute (replace) all the empty rows in the column WorkLoc with the value that you have identified as majority.\n"
   ]
  },
  {
   "cell_type": "code",
   "execution_count": 9,
   "metadata": {},
   "outputs": [
    {
     "name": "stdout",
     "output_type": "stream",
     "text": [
      "Office\n"
     ]
    }
   ],
   "source": [
    "# your code goes here\n",
    "wlmaj = df.value_counts('WorkLoc').idxmax()\n",
    "print(wlmaj)\n",
    "df['WorkLoc'] = df['WorkLoc'].fillna(wlmaj)\n"
   ]
  },
  {
   "cell_type": "markdown",
   "metadata": {},
   "source": [
    "After imputation there should ideally not be any empty rows in the WorkLoc column.\n"
   ]
  },
  {
   "cell_type": "markdown",
   "metadata": {},
   "source": [
    "Verify if imputing was successful.\n"
   ]
  },
  {
   "cell_type": "code",
   "execution_count": 10,
   "metadata": {},
   "outputs": [
    {
     "name": "stdout",
     "output_type": "stream",
     "text": [
      "WorkLoc\n",
      "Office                                            6838\n",
      "Home                                              3589\n",
      "Other place, such as a coworking space or cafe     971\n",
      "Name: count, dtype: int64\n"
     ]
    }
   ],
   "source": [
    "# your code goes here\n",
    "print(df.value_counts('WorkLoc'))\n"
   ]
  },
  {
   "cell_type": "markdown",
   "metadata": {},
   "source": [
    "## Normalizing data\n"
   ]
  },
  {
   "cell_type": "markdown",
   "metadata": {},
   "source": [
    "There are two columns in the dataset that talk about compensation.\n",
    "\n",
    "One is \"CompFreq\". This column shows how often a developer is paid (Yearly, Monthly, Weekly).\n",
    "\n",
    "The other is \"CompTotal\". This column talks about how much the developer is paid per Year, Month, or Week depending upon his/her \"CompFreq\". \n",
    "\n",
    "This makes it difficult to compare the total compensation of the developers.\n",
    "\n",
    "In this section you will create a new column called 'NormalizedAnnualCompensation' which contains the 'Annual Compensation' irrespective of the 'CompFreq'.\n",
    "\n",
    "Once this column is ready, it makes comparison of salaries easy.\n"
   ]
  },
  {
   "cell_type": "markdown",
   "metadata": {},
   "source": [
    "<hr>\n"
   ]
  },
  {
   "cell_type": "markdown",
   "metadata": {},
   "source": [
    "List out the various categories in the column 'CompFreq'\n"
   ]
  },
  {
   "cell_type": "code",
   "execution_count": 11,
   "metadata": {},
   "outputs": [
    {
     "name": "stdout",
     "output_type": "stream",
     "text": [
      "['Yearly' 'Monthly' 'Weekly' nan]\n"
     ]
    }
   ],
   "source": [
    "# your code goes here\n",
    "print(df['CompFreq'].unique())"
   ]
  },
  {
   "cell_type": "markdown",
   "metadata": {},
   "source": [
    "Create a new column named 'NormalizedAnnualCompensation'. Use the hint given below if needed.\n"
   ]
  },
  {
   "cell_type": "markdown",
   "metadata": {},
   "source": [
    "Double click to see the **Hint**.\n",
    "\n",
    "<!--\n",
    "\n",
    "Use the below logic to arrive at the values for the column NormalizedAnnualCompensation.\n",
    "\n",
    "If the CompFreq is Yearly then use the exising value in CompTotal\n",
    "If the CompFreq is Monthly then multiply the value in CompTotal with 12 (months in an year)\n",
    "If the CompFreq is Weekly then multiply the value in CompTotal with 52 (weeks in an year)\n",
    "\n",
    "-->\n"
   ]
  },
  {
   "cell_type": "code",
   "execution_count": 13,
   "metadata": {},
   "outputs": [
    {
     "name": "stdout",
     "output_type": "stream",
     "text": [
      "Python 3.12.6\n",
      "2.2.3\n",
      "CompFreq\n",
      "Yearly     6073\n",
      "Monthly    4788\n",
      "Weekly      331\n",
      "Unknown     206\n",
      "Name: count, dtype: int64\n",
      "(11398,)\n",
      "       Respondent CompFreq  CompTotal  NormalizedAnnualCompensation\n",
      "0               4   Yearly    61000.0                         61000\n",
      "1               9   Yearly   138000.0                        138000\n",
      "2              13   Yearly    90000.0                         90000\n",
      "3              16  Monthly    29000.0                        348000\n",
      "4              17   Yearly    90000.0                         90000\n",
      "...           ...      ...        ...                           ...\n",
      "11393       25136   Yearly   130000.0                        130000\n",
      "11394       25137   Yearly    74400.0                         74400\n",
      "11395       25138   Yearly   105000.0                        105000\n",
      "11396       25141   Yearly    80000.0                         80000\n",
      "11397       25142  Unknown        0.0                             0\n",
      "\n",
      "[11398 rows x 4 columns]\n"
     ]
    }
   ],
   "source": [
    "# your code goes here\n",
    "!python --version  # Python 3.12.6\n",
    "print(pd.__version__)\n",
    "# This error if try if df[df['CompFreq'] == 'Weekly']:  but did work ok on earlier Python3\n",
    "# ValueError: The truth value of a DataFrame is ambiguous. Use a.empty, a.bool(), a.item(), a.any() or a.all().\n",
    "# TypeError: 'in <string>' requires string as left operand, not Series\n",
    "'''  ### THIS DOES NOT WORK ON THIS VERSION of Python and Pandas\n",
    "if df[df['CompFreq'] == 'Weekly']:\n",
    "    df['NormalizedAnnualCompensation'] = df[df['CompTotal']] * 52\n",
    "''';\n",
    "### So use iloc, but get numeric column numbers first\n",
    "df1 = df.copy()\n",
    "df1['CompFreq'] = df1['CompFreq'].fillna('Unknown')\n",
    "print(df1.value_counts('CompFreq'))\n",
    "df1['CompTotal'] = df1['CompTotal'].fillna(0)\n",
    "\n",
    "df1['NormalizedAnnualCompensation'] = 0  # init the new row\n",
    "NAC = df1.columns.get_loc('NormalizedAnnualCompensation')  # column number of it\n",
    "CFreq = df1.columns.get_loc('CompFreq')  # column number of it\n",
    "CTot = df1.columns.get_loc('CompTotal') # column number of it\n",
    "for row in range(0, df1.shape[0]):\n",
    "    if df1.iloc[row, CFreq] == 'Weekly':\n",
    "        df1.iloc[row, NAC] = df1.iloc[row, CTot] * 52\n",
    "    elif df1.iloc[row, CFreq] == 'Monthly':\n",
    "        df1.iloc[row, NAC] = df1.iloc[row, CTot] * 12\n",
    "    elif df1.iloc[row, CFreq] == 'Yearly':\n",
    "        df1.iloc[row, NAC] = df1.iloc[row, CTot]\n",
    "    # else leave it as zero\n",
    "print(df1['Respondent'].shape)\n",
    "print(df1[['Respondent','CompFreq','CompTotal','NormalizedAnnualCompensation']])  # if testing\n"
   ]
  },
  {
   "cell_type": "code",
   "execution_count": 24,
   "metadata": {},
   "outputs": [
    {
     "name": "stdout",
     "output_type": "stream",
     "text": [
      "edlevnull:  EdLevel\n",
      "False    11286\n",
      "True       112\n",
      "Name: count, dtype: int64\n",
      "Country:  Country\n",
      "False    11398\n",
      "Name: count, dtype: int64\n"
     ]
    }
   ],
   "source": [
    "# Find blank EdLevel\n",
    "edlevnull = df1['EdLevel'].isnull()\n",
    "#print('df1: ', df1.value_counts('EdLevel') )\n",
    "print('edlevnull: ', pd.DataFrame(edlevnull).value_counts('EdLevel') )\n",
    "print('Country: ', pd.DataFrame(df1['Country'].isnull()).value_counts('Country') )\n",
    "myDEBUG = True\n",
    "#!pip install -U varname\n",
    "from varname import argname\n",
    "df = pd.DataFrame()\n",
    "def prdf(ldf):\n",
    "    if myDEBUG == True:\n",
    "        # says: type of ', argname('ldf'), ' is ', type(ldf))\n",
    "        print(argname('ldf'), type(ldf))\n",
    "        print(ldf.shape)\n",
    "        print(ldf.columns)\n",
    "        print(ldf.head(3))\n",
    "        # print(ldf.index.name)  # may not have one\n",
    "        print(ldf.describe)\n",
    "        print(ldf.info)\n",
    "#df2 = df1.truncate(after=20, axis=0)\n",
    "#prdf(df1)\n"
   ]
  },
  {
   "cell_type": "markdown",
   "metadata": {},
   "source": [
    "## Authors\n"
   ]
  },
  {
   "cell_type": "markdown",
   "metadata": {},
   "source": [
    "Ramesh Sannareddy\n"
   ]
  },
  {
   "cell_type": "markdown",
   "metadata": {},
   "source": [
    "### Other Contributors\n"
   ]
  },
  {
   "cell_type": "markdown",
   "metadata": {},
   "source": [
    "Rav Ahuja\n"
   ]
  },
  {
   "cell_type": "markdown",
   "metadata": {},
   "source": [
    " ## Change Log\n"
   ]
  },
  {
   "cell_type": "markdown",
   "metadata": {},
   "source": [
    "|Date (YYYY-MM-DD)|Version|Changed By|Change Description|\n",
    "|-|-|-|-|\n",
    "|2024-09-24|1.1|Madhusudhan Moole|Updated lab|\n",
    "|2024-09-23|1.0|Raghul Ramesh|Created lab|\n"
   ]
  },
  {
   "cell_type": "markdown",
   "metadata": {},
   "source": [
    "<!--| Date (YYYY-MM-DD) | Version | Changed By        | Change Description                 |\n",
    "| ----------------- | ------- | ----------------- | ---------------------------------- |\n",
    "| 2020-10-17        | 0.1     | Ramesh Sannareddy | Created initial version of the lab |--!>\n"
   ]
  },
  {
   "cell_type": "markdown",
   "metadata": {},
   "source": [
    "## <h3 align=\"center\"> © IBM Corporation. All rights reserved. <h3/>\n"
   ]
  },
  {
   "cell_type": "code",
   "execution_count": null,
   "metadata": {},
   "outputs": [],
   "source": []
  }
 ],
 "metadata": {
  "kernelspec": {
   "display_name": "Python 3 (ipykernel)",
   "language": "python",
   "name": "python3"
  },
  "language_info": {
   "codemirror_mode": {
    "name": "ipython",
    "version": 3
   },
   "file_extension": ".py",
   "mimetype": "text/x-python",
   "name": "python",
   "nbconvert_exporter": "python",
   "pygments_lexer": "ipython3",
   "version": "3.12.6"
  },
  "prev_pub_hash": "fee3cd0da99af27f7f7a8d9c340e8e78f253ffc32a2251cadcb6968f21d952d5"
 },
 "nbformat": 4,
 "nbformat_minor": 4
}
