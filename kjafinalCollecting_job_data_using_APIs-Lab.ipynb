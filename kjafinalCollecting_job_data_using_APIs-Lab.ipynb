{
 "cells": [
  {
   "cell_type": "markdown",
   "metadata": {},
   "source": [
    "<p style=\"text-align:center\">\n",
    "    <a href=\"https://skills.network\" target=\"_blank\">\n",
    "    <img src=\"https://cf-courses-data.s3.us.cloud-object-storage.appdomain.cloud/assets/logos/SN_web_lightmode.png\" width=\"200\" alt=\"Skills Network Logo\">\n",
    "    </a>\n",
    "</p>\n"
   ]
  },
  {
   "cell_type": "markdown",
   "metadata": {},
   "source": [
    "# **Collecting Job Data Using APIs**\n"
   ]
  },
  {
   "cell_type": "markdown",
   "metadata": {},
   "source": [
    "Estimated time needed: **45 to 60** minutes\n"
   ]
  },
  {
   "cell_type": "markdown",
   "metadata": {},
   "source": [
    "## Objectives\n"
   ]
  },
  {
   "cell_type": "markdown",
   "metadata": {},
   "source": [
    "After completing this lab, you will be able to:\n"
   ]
  },
  {
   "cell_type": "markdown",
   "metadata": {},
   "source": [
    "*   Collect job data from GitHub Jobs API\n",
    "*   Store the collected data into an excel spreadsheet.\n"
   ]
  },
  {
   "cell_type": "markdown",
   "metadata": {},
   "source": [
    "><strong>Note: Before starting with the assignment make sure to read all the instructions and then move ahead with the coding part.</strong>\n"
   ]
  },
  {
   "cell_type": "markdown",
   "metadata": {},
   "source": [
    "#### Instructions\n"
   ]
  },
  {
   "cell_type": "markdown",
   "metadata": {},
   "source": [
    "To run the actual lab, firstly you need to click on the [Jobs_API](https://cf-courses-data.s3.us.cloud-object-storage.appdomain.cloud/IBM-DA0321EN-SkillsNetwork/labs/module%201/Accessing%20Data%20Using%20APIs/Jobs_API.ipynb) notebook link. The file contains flask code which is required to run the Jobs API data.\n",
    "\n",
    "Now, to run the code in the file that opens up follow the below steps.\n",
    "\n",
    "Step1: Download the file. \n",
    "\n",
    "Step2: Upload it on the IBM Watson studio. (If IBM Watson Cloud service does not work in your system, follow the alternate Step 2 below)\n",
    "\n",
    "Step2(alternate): Upload it in your SN labs environment using the upload button which is highlighted in red in the image below:\n",
    "Remember to upload this Jobs_API file in the same folder as your current .ipynb file\n",
    "\n",
    "<img src=\"https://cf-courses-data.s3.us.cloud-object-storage.appdomain.cloud/IBM-DA0321EN-SkillsNetwork/labs/module%201/Accessing%20Data%20Using%20APIs/Upload.PNG\">\n",
    "\n",
    "Step3:  Run all the cells of the Jobs_API file. (Even if you receive an asterik sign after running the last cell, the code works fine.)\n",
    "\n",
    "If you want to learn more about flask, which is optional, you can click on this link [here](https://cf-courses-data.s3.us.cloud-object-storage.appdomain.cloud/IBM-DA0321EN-SkillsNetwork/labs/module%201/Accessing%20Data%20Using%20APIs/FLASK_API.md.html).\n",
    "\n",
    "Once you run the flask code, you can start with your assignment.\n"
   ]
  },
  {
   "cell_type": "markdown",
   "metadata": {},
   "source": [
    "## Dataset Used in this Assignment\n",
    "\n",
    "The dataset used in this lab comes from the following source: https://www.kaggle.com/promptcloud/jobs-on-naukricom under the under a **Public Domain license**.\n",
    "\n",
    "> Note: We are using a modified subset of that dataset for the lab, so to follow the lab instructions successfully please use the dataset provided with the lab, rather than the dataset from the original source.\n",
    "\n",
    "The original dataset is a csv. We have converted the csv to json as per the requirement of the lab.\n"
   ]
  },
  {
   "cell_type": "markdown",
   "metadata": {},
   "source": [
    "## Warm-Up Exercise\n"
   ]
  },
  {
   "cell_type": "markdown",
   "metadata": {},
   "source": [
    "Before you attempt the actual lab, here is a fully solved warmup exercise that will help you to learn how to access an API.\n"
   ]
  },
  {
   "cell_type": "markdown",
   "metadata": {},
   "source": [
    "Using an API, let us find out who currently are on the International Space Station (ISS).<br> The API at [http://api.open-notify.org/astros.json](http://api.open-notify.org/astros.json?utm_medium=Exinfluencer&utm_source=Exinfluencer&utm_content=000026UJ&utm_term=10006555&utm_id=NA-SkillsNetwork-Channel-SkillsNetworkCoursesIBMDA0321ENSkillsNetwork21426264-2021-01-01&cm_mmc=Email_Newsletter-_-Developer_Ed%2BTech-_-WW_WW-_-SkillsNetwork-Courses-IBM-DA0321EN-SkillsNetwork-21426264&cm_mmca1=000026UJ&cm_mmca2=10006555&cm_mmca3=M12345678&cvosrc=email.Newsletter.M12345678&cvo_campaign=000026UJ) gives us the information of astronauts currently on ISS in json format.<br>\n",
    "You can read more about this API at [http://open-notify.org/Open-Notify-API/People-In-Space/](http://open-notify.org/Open-Notify-API/People-In-Space?utm_medium=Exinfluencer&utm_source=Exinfluencer&utm_content=000026UJ&utm_term=10006555&utm_id=NA-SkillsNetwork-Channel-SkillsNetworkCoursesIBMDA0321ENSkillsNetwork21426264-2021-01-01&cm_mmc=Email_Newsletter-_-Developer_Ed%2BTech-_-WW_WW-_-SkillsNetwork-Courses-IBM-DA0321EN-SkillsNetwork-21426264&cm_mmca1=000026UJ&cm_mmca2=10006555&cm_mmca3=M12345678&cvosrc=email.Newsletter.M12345678&cvo_campaign=000026UJ)\n"
   ]
  },
  {
   "cell_type": "code",
   "execution_count": 1,
   "metadata": {},
   "outputs": [],
   "source": [
    "import requests # you need this module to make an API call\n",
    "import pandas as pd"
   ]
  },
  {
   "cell_type": "code",
   "execution_count": 2,
   "metadata": {},
   "outputs": [],
   "source": [
    "api_url = \"http://api.open-notify.org/astros.json\" # this url gives use the astronaut data"
   ]
  },
  {
   "cell_type": "code",
   "execution_count": 3,
   "metadata": {},
   "outputs": [],
   "source": [
    "response = requests.get(api_url) # Call the API using the get method and store the\n",
    "                                # output of the API call in a variable called response."
   ]
  },
  {
   "cell_type": "code",
   "execution_count": 6,
   "metadata": {},
   "outputs": [],
   "source": [
    "if response.ok:             # if all is well() no errors, no network timeouts)\n",
    "    data = response.json()  # store the result in json format in a variable called data\n",
    "                            # the variable data is of type dictionary."
   ]
  },
  {
   "cell_type": "code",
   "execution_count": 9,
   "metadata": {},
   "outputs": [
    {
     "name": "stdout",
     "output_type": "stream",
     "text": [
      "{'people': [{'craft': 'ISS', 'name': 'Oleg Kononenko'}, {'craft': 'ISS', 'name': 'Nikolai Chub'}, {'craft': 'ISS', 'name': 'Tracy Caldwell Dyson'}, {'craft': 'ISS', 'name': 'Matthew Dominick'}, {'craft': 'ISS', 'name': 'Michael Barratt'}, {'craft': 'ISS', 'name': 'Jeanette Epps'}, {'craft': 'ISS', 'name': 'Alexander Grebenkin'}, {'craft': 'ISS', 'name': 'Butch Wilmore'}, {'craft': 'ISS', 'name': 'Sunita Williams'}, {'craft': 'Tiangong', 'name': 'Li Guangsu'}, {'craft': 'Tiangong', 'name': 'Li Cong'}, {'craft': 'Tiangong', 'name': 'Ye Guangfu'}], 'number': 12, 'message': 'success'}\n"
     ]
    }
   ],
   "source": [
    "print(data)   # print the data just to check the output or for debugging"
   ]
  },
  {
   "cell_type": "markdown",
   "metadata": {},
   "source": [
    "Print the number of astronauts currently on ISS.\n"
   ]
  },
  {
   "cell_type": "code",
   "execution_count": null,
   "metadata": {},
   "outputs": [],
   "source": [
    "print(data.get('number'))"
   ]
  },
  {
   "cell_type": "markdown",
   "metadata": {},
   "source": [
    "Print the names of the astronauts currently on ISS.\n"
   ]
  },
  {
   "cell_type": "code",
   "execution_count": null,
   "metadata": {},
   "outputs": [],
   "source": [
    "astronauts = data.get('people')\n",
    "print(\"There are {} astronauts on ISS\".format(len(astronauts)))\n",
    "print(\"And their names are :\")\n",
    "for astronaut in astronauts:\n",
    "    print(astronaut.get('name'))"
   ]
  },
  {
   "cell_type": "markdown",
   "metadata": {},
   "source": [
    "Hope the warmup was helpful. Good luck with your next lab!\n"
   ]
  },
  {
   "cell_type": "markdown",
   "metadata": {},
   "source": [
    "## Lab: Collect Jobs Data using GitHub Jobs API\n"
   ]
  },
  {
   "cell_type": "markdown",
   "metadata": {},
   "source": [
    "### Objective: Determine the number of jobs currently open for various technologies  and for various locations\n"
   ]
  },
  {
   "cell_type": "markdown",
   "metadata": {},
   "source": [
    "Collect the number of job postings for the following locations using the API:\n",
    "\n",
    "* Los Angeles\n",
    "* New York\n",
    "* San Francisco\n",
    "* Washington DC\n",
    "* Seattle\n",
    "* Austin\n",
    "* Detroit\n"
   ]
  },
  {
   "cell_type": "code",
   "execution_count": 23,
   "metadata": {},
   "outputs": [
    {
     "name": "stdin",
     "output_type": "stream",
     "text": [
      "Once deleted, variables cannot be recovered. Proceed (y/[n])?  y\n"
     ]
    }
   ],
   "source": [
    "%reset"
   ]
  },
  {
   "cell_type": "raw",
   "metadata": {},
   "source": [
    "#Import required libraries\n",
    "import pandas as pd\n",
    "import json\n",
    "import requests\n",
    "import datetime\n",
    "import os"
   ]
  },
  {
   "cell_type": "markdown",
   "metadata": {
    "jp-MarkdownHeadingCollapsed": true,
    "tags": []
   },
   "source": [
    "#### Write a function to get the number of jobs for the Python technology.<br>\n",
    "> Note: While using the lab you need to pass the **payload** information for the **params** attribute in the form of **key** **value** pairs.\n",
    "  Refer the ungraded **rest api lab** in the course **Python for Data Science, AI & Development**  <a href=\"https://www.coursera.org/learn/python-for-applied-data-science-ai/ungradedLti/P6sW8/hands-on-lab-access-rest-apis-request-http?utm_medium=Exinfluencer&utm_source=Exinfluencer&utm_content=000026UJ&utm_term=10006555&utm_id=NA-SkillsNetwork-Channel-SkillsNetworkCoursesIBMDA0321ENSkillsNetwork928-2022-01-01\">link</a>\n",
    "  \n",
    " ##### The keys in the json are \n",
    " * Job Title\n",
    " \n",
    " * Job Experience Required\n",
    " \n",
    " * Key Skills\n",
    " \n",
    " * Role Category\n",
    " \n",
    " * Location\n",
    " \n",
    " * Functional Area\n",
    " \n",
    " * Industry\n",
    " \n",
    " * Role \n",
    " \n",
    "You can also view  the json file contents  from the following <a href = \"https://cf-courses-data.s3.us.cloud-object-storage.appdomain.cloud/IBM-DA0321EN-SkillsNetwork/labs/module%201/Accessing%20Data%20Using%20APIs/jobs.json\">json</a> URL.\n",
    "\n"
   ]
  },
  {
   "cell_type": "code",
   "execution_count": null,
   "metadata": {},
   "outputs": [],
   "source": [
    "api_url=\"http://127.0.0.1:5000/data\"\n",
    "def get_number_of_jobs_T(technology):\n",
    "    \n",
    "    #your code goes here\n",
    "    return technology,number_of_jobs"
   ]
  },
  {
   "cell_type": "markdown",
   "metadata": {},
   "source": [
    "Calling the function for Python and checking if it works.\n"
   ]
  },
  {
   "cell_type": "code",
   "execution_count": null,
   "metadata": {},
   "outputs": [],
   "source": [
    "get_number_of_jobs_T(\"Python\")"
   ]
  },
  {
   "cell_type": "markdown",
   "metadata": {},
   "source": [
    "#### Write a function to find number of jobs in US for a location of your choice\n"
   ]
  },
  {
   "cell_type": "code",
   "execution_count": 3,
   "metadata": {},
   "outputs": [
    {
     "name": "stdout",
     "output_type": "stream",
     "text": [
      "encoding is  utf-8\n",
      "response.headers= {'Server': 'Werkzeug/3.0.4 Python/3.12.3', 'Date': 'Fri, 27 Sep 2024 23:20:04 GMT', 'Content-Type': 'application/json', 'Content-Length': '774', 'Connection': 'close'}\n",
      "response.request.headers= {'User-Agent': 'python-requests/2.32.3', 'Accept-Encoding': 'gzip, deflate, br, zstd', 'Accept': '*/*', 'Connection': 'keep-alive'}\n",
      "type of response.text =  <class 'str'>\n",
      "type of response.content =  <class 'bytes'>\n",
      "type of RESPONSE.JSON() =  <class 'list'>\n",
      "type of dicy is  <class 'dict'>\n",
      "DICY DICT.ITEM is  (0, {'Functional Area': 'Marketing , Advertising , MR , PR , Media Planning', 'Id': '0', 'Industry': 'Advertising, PR, MR, Event Management', 'Job Experience Required': '5 - 10 yrs', 'Job Title': 'Digital Media Planner', 'Key Skills': 'Media Planning| Digital Media', 'Location': 'Los Angeles', 'Role': 'Media Planning Executive/Manager', 'Role Category': 'Advertising'}) \n",
      "\n",
      "DICY DICT.ITEM is  (1, {'Functional Area': 'Sales , Retail , Business Development', 'Id': '1', 'Industry': 'IT-Software, Software Services', 'Job Experience Required': '2 - 5 yrs', 'Job Title': 'Online Bidding Executive', 'Key Skills': 'pre sales| closing| software knowledge| clients| requirements| negotiating| client| online bidding| good communication| technology', 'Location': 'New York', 'Role': 'Sales Executive/Officer', 'Role Category': 'Retail Sales'}) \n",
      "\n"
     ]
    }
   ],
   "source": [
    "import pandas as pd\n",
    "import requests\n",
    "import json\n",
    "api_url=\"http://127.0.0.1:5000/data/all\"\n",
    "response = requests.get(api_url)\n",
    "data = {}\n",
    "if response.ok:\n",
    "    print('encoding is ', response.encoding)\n",
    "    print('response.headers=', response.headers)\n",
    "    print('response.request.headers=', response.request.headers)\n",
    "    print('type of response.text = ', type(response.text))\n",
    "    print('type of response.content = ', type(response.content))\n",
    "    print('type of RESPONSE.JSON() = ', type(response.json()))  # it says type list\n",
    "    data = response.json()\n",
    "    # print(\"r.json()['args'] is \", response.json()['args'])\n",
    "    dicy = dict(enumerate(data))  # # turn list into dictionary\n",
    "    print('type of dicy is ', type(dicy))\n",
    "    #print('DICT = ', dicy, '\\n')  # THIS ONE WORKS, but looks like a long string\n",
    "    '''\n",
    "    {0: {'Functional Area': 'Marketing , Advertising , MR , PR , Media Planning', 'Id': 0, 'Industry': 'Advertising, PR, MR, Event Managemen', 'Job Experience Required': '5 - 10 yrs', 'Job Title': 'Digital Media Planner', 'Key Skills': 'Media Planning| Digital Media', 'Location': 'Los Angeles', 'Role': 'Media Planning Executive/Manager', 'Role Category': 'Advertising'}, 1: {'Functional Area': 'Sales , Retail , Business Developmen', 'Id': 1, 'Industry': 'IT-Software, Software Services', 'Job Experience Required': '2 - 5 yrs', 'Job Title': 'Online Bidding Executive', 'Key Skills': 'pre sales| closing| software knowledge| clients| requirements| negotiating| client| online bidding| good communication| technology', 'Location': 'New York', 'Role': 'Sales Executive/Officer', 'Role Category': 'Retail Sales'}, 2: {'Functional Area': 'Engineering Design , R&D', 'Id': 2, 'Industry': 'Recruitment, Staffing', 'Job Experience Required': '0 - 1 yrs', 'Job Title': 'Trainee Research/ Research Executive- Hi- Tech Operations', 'Key Skills': 'Computer science| Fabrication| Quality check| Intellectual property| Electronics| Support services| Research| Management| Human resource management| Research Executive', 'Location': 'San Francisco', 'Role': 'R&D Executive', 'Role Category': 'R&D'}, 3: {'Functional Area': 'IT Software - Application Programming , Maintenance', 'Id': 3, 'Industry': 'IT-Software, Software Services', 'Job Experience Required': '0 - 5 yrs', 'Job Title': 'Technical Suppor', 'Key Skills': 'Technical Suppor', 'Location': 'Washington DC', 'Role': 'Technical Support\n",
    "    ''';\n",
    "    for i in dicy.items():\n",
    "        print('DICY DICT.ITEM is ', i, '\\n')\n",
    "else:\n",
    "    print('Not OK, response.status_code=', response.status_code)\n",
    "\n",
    "#locsort = sorted(data, key=lambda x: x['Location'])\n",
    "#print(locsort[:3])  # is []"
   ]
  },
  {
   "cell_type": "code",
   "execution_count": 5,
   "metadata": {},
   "outputs": [
    {
     "name": "stdout",
     "output_type": "stream",
     "text": [
      "dict list data.items is \n",
      " {0: {'Functional Area': 'Marketing , Advertising , MR , PR , Media Planning', 'Id': '0', 'Industry': 'Advertising, PR, MR, Event Management', 'Job Experience Required': '5 - 10 yrs', 'Job Title': 'Digital Media Planner', 'Key Skills': 'Media Planning| Digital Media', 'Location': 'Los Angeles', 'Role': 'Media Planning Executive/Manager', 'Role Category': 'Advertising'}, 1: {'Functional Area': 'Sales , Retail , Business Development', 'Id': '1', 'Industry': 'IT-Software, Software Services', 'Job Experience Required': '2 - 5 yrs', 'Job Title': 'Online Bidding Executive', 'Key Skills': 'pre sales| closing| software knowledge| clients| requirements| negotiating| client| online bidding| good communication| technology', 'Location': 'New York', 'Role': 'Sales Executive/Officer', 'Role Category': 'Retail Sales'}}\n",
      "dicy =  <class 'dict'> {0: 'Functional Area', 1: 'Id', 2: 'Industry', 3: 'Job Experience Required', 4: 'Job Title', 5: 'Key Skills', 6: 'Location', 7: 'Role', 8: 'Role Category'}\n",
      "{0: 'Functional Area', 1: 'Id', 2: 'Industry'}\n"
     ]
    }
   ],
   "source": [
    "\n",
    "    # r.json()['args']\n",
    "    print('dict list data.items is \\n', dict(list(enumerate(data))[:3]))\n",
    "\n",
    "    #[0]dicy = {k:v for e in data for(k,v) in enumerate(e)}  # comprehension list into dictionary\n",
    "    dicy = {k:v for e in data for(k,v) in enumerate(e)}  # comprehension list into dictionary\n",
    "    print('dicy = ', type(dicy), dicy)\n",
    "    print(dict(list(dicy.items())[:3]))\n",
    "\n",
    "    #print(dict(list(d.items())[:3]))\n",
    "    #print('type(dicy) is ', type(dicy))\n",
    "    #print(dicy)  # it only has key names, or first row\n",
    "    de = dict(enumerate(data))\n",
    "    #di = dict.items()  # no works\n",
    "    \n",
    "    '''\n",
    "    for k in d.keys():\n",
    "        newdict = d.values()\n",
    "    print(type(newdict))\n",
    "    #print(newdict)\n",
    "    dicy = {}\n",
    "    dicy = {k:v for e newdict for(k,v) in enumerate(e)}  # comprehension list into dictionary\n",
    "    for k in list(newdict.keys()):\n",
    "        print('key is ', k)\n",
    "    print('type(dicy) is ', type(dicy))\n",
    "    print(dicy)\n",
    "\n",
    "    kl = []\n",
    "    vl = []\n",
    "    kl = list(dicy.keys())\n",
    "    vl = dicy.get('Location')\n",
    "    print(kl,'\\n', vl)\n",
    "    ''';\n"
   ]
  },
  {
   "cell_type": "code",
   "execution_count": 7,
   "metadata": {},
   "outputs": [
    {
     "name": "stdout",
     "output_type": "stream",
     "text": [
      "type of df is  <class 'pandas.core.frame.DataFrame'>\n"
     ]
    }
   ],
   "source": [
    "    # If supposed to use payload and params, then not expected to use DataFrames?\n",
    "    # print(dicy)  # THIS ONE WORKS, but looks like a long string\n",
    "    dfwhole = pd.json_normalize(data)  # THIS ONE WORKS\n",
    "    df = dfwhole[['Id', 'Key Skills', 'Location', 'Job Experience Required']]\n",
    "    print('type of df is ', type(df))\n",
    "    df.loc[:, 'Key Skills'] = df.loc[:, ('Key Skills')].str.lower()\n"
   ]
  },
  {
   "cell_type": "code",
   "execution_count": 9,
   "metadata": {},
   "outputs": [],
   "source": [
    "def get_number_of_jobs_T(technology):\n",
    "    technology = technology.lower()\n",
    "    df1 = df[df['Key Skills'].str.contains(technology) ]\n",
    "    #print(df1.shape)\n",
    "    # print(df1.shape[0], df1.shape[1])\n",
    "    # print(df1.head(3))\n",
    "    number_of_jobs = df1['Id'].count()\n",
    "    return technology, int(number_of_jobs)\n"
   ]
  },
  {
   "cell_type": "code",
   "execution_count": 11,
   "metadata": {},
   "outputs": [
    {
     "name": "stdout",
     "output_type": "stream",
     "text": [
      "('python', 0)\n",
      "('javascript', 0)\n",
      "('excel', 0)\n",
      "('database', 0)\n",
      "('artificial intelligence', 0)\n",
      "('machine learning', 0)\n",
      "('data science', 0)\n",
      "('data analy', 0)\n",
      "('data engineer', 0)\n"
     ]
    }
   ],
   "source": [
    "print(get_number_of_jobs_T('python'))\n",
    "print(get_number_of_jobs_T('javascript'))\n",
    "print(get_number_of_jobs_T('excel'))\n",
    "print(get_number_of_jobs_T('database'))\n",
    "print(get_number_of_jobs_T('Artificial Intelligence'))\n",
    "print(get_number_of_jobs_T('Machine Learning'))\n",
    "print(get_number_of_jobs_T('Data Science'))\n",
    "print(get_number_of_jobs_T('Data Analy'))\n",
    "print(get_number_of_jobs_T('Data Engineer'))\n"
   ]
  },
  {
   "cell_type": "code",
   "execution_count": 13,
   "metadata": {},
   "outputs": [],
   "source": [
    "locs = df.groupby('Location', as_index=True)[['Id']].count()\n",
    "locs = locs.transpose()\n",
    "def get_number_of_jobs_L(location):\n",
    "    count = locs[location]\n",
    "    #if not count.empty:\n",
    "    #if count.any():\n",
    "    count = int(count.iloc[0])\n",
    "    return location, count\n"
   ]
  },
  {
   "cell_type": "markdown",
   "metadata": {},
   "source": [
    "Call the function for Los Angeles and check if it is working.\n"
   ]
  },
  {
   "cell_type": "code",
   "execution_count": 15,
   "metadata": {},
   "outputs": [
    {
     "name": "stdout",
     "output_type": "stream",
     "text": [
      "('Los Angeles', 1)\n"
     ]
    }
   ],
   "source": [
    "#your code goes here\n",
    "# #Call the function for Los Angeles and check if it is working.\n",
    "print(get_number_of_jobs_L('Los Angeles'))\n",
    "'''\n",
    "print(get_number_of_jobs_L('San Francisco'))\n",
    "print(get_number_of_jobs_L('Washington DC'))\n",
    "print(get_number_of_jobs_L('Seattle'))\n",
    "print(get_number_of_jobs_L('Austin'))\n",
    "print(get_number_of_jobs_L('Detroit'))\n",
    "print(get_number_of_jobs_L('New York'))\n",
    "''';"
   ]
  },
  {
   "cell_type": "markdown",
   "metadata": {},
   "source": [
    "### Store the results in an excel file\n"
   ]
  },
  {
   "cell_type": "markdown",
   "metadata": {},
   "source": [
    "Call the API for all the given technologies above and write the results in an excel spreadsheet.\n"
   ]
  },
  {
   "cell_type": "markdown",
   "metadata": {},
   "source": [
    "If you do not know how create excel file using python, double click here for **hints**.\n",
    "\n",
    "<!--\n",
    "\n",
    "from openpyxl import Workbook        # import Workbook class from module openpyxl\n",
    "wb=Workbook()                        # create a workbook object\n",
    "ws=wb.active                         # use the active worksheet\n",
    "ws.append(['Country','Continent'])   # add a row with two columns 'Country' and 'Continent'\n",
    "ws.append(['Eygpt','Africa'])        # add a row with two columns 'Egypt' and 'Africa'\n",
    "ws.append(['India','Asia'])          # add another row\n",
    "ws.append(['France','Europe'])       # add another row\n",
    "wb.save(\"countries.xlsx\")            # save the workbook into a file called countries.xlsx\n",
    "\n",
    "\n",
    "-->\n"
   ]
  },
  {
   "cell_type": "code",
   "execution_count": 89,
   "metadata": {},
   "outputs": [
    {
     "name": "stdout",
     "output_type": "stream",
     "text": [
      "TESTING  CELL\n",
      "[{'Functional Area': 'Marketing , Advertising , MR , PR , Media Planning', 'Id': '0', 'Industry': 'Advertising, PR, MR, Event Management', 'Job Experience Required': '5 - 10 yrs', 'Job Title': 'Digital Media Planner', 'Key Skills': 'Media Planning| Digital Media', 'Location': 'Los Angeles', 'Role': 'Media Planning Executive/Manager', 'Role Category': 'Advertising'}, {'Functional Area': 'Sales , Retail , Business Development', 'Id': '1', 'Industry': 'IT-Software, Software Services', 'Job Experience Required': '2 - 5 yrs', 'Job Title': 'Online Bidding Executive', 'Key Skills': 'pre sales| closing| software knowledge| clients| requirements| negotiating| client| online bidding| good communication| technology', 'Location': 'New York', 'Role': 'Sales Executive/Officer', 'Role Category': 'Retail Sales'}]\n",
      "<enumerate object at 0x000001B737752D90>\n",
      "{'Server': 'Werkzeug/3.0.4 Python/3.12.3', 'Date': 'Fri, 27 Sep 2024 22:24:28 GMT', 'Content-Type': 'application/json', 'Content-Length': '774', 'Connection': 'close'}\n",
      "{'User-Agent': 'python-requests/2.32.3', 'Accept-Encoding': 'gzip, deflate, br, zstd', 'Accept': '*/*', 'Connection': 'keep-alive'}\n",
      "<class 'str'>\n",
      "<class 'bytes'>\n",
      "<class 'list'>\n",
      "DUMP x\n",
      "DUMP dicy\n",
      "X  <class 'dict'> {}\n"
     ]
    },
    {
     "name": "stderr",
     "output_type": "stream",
     "text": [
      "<>:15: SyntaxWarning: invalid escape sequence '\\c'\n",
      "<>:15: SyntaxWarning: invalid escape sequence '\\c'\n",
      "C:\\Users\\krista\\AppData\\Local\\Temp\\ipykernel_6880\\180241457.py:15: SyntaxWarning: invalid escape sequence '\\c'\n",
      "  '''\n"
     ]
    }
   ],
   "source": [
    "# but also, how to get rid of excess columns? either slice, match, \n",
    "print('TESTING  CELL')\n",
    "\n",
    "dicy = dict(enumerate(data))\n",
    "print(data)\n",
    "elist = enumerate(data)\n",
    "print(elist)\n",
    "\n",
    "cities = ['Los Angeles','San Francisco','Washington DC','Seattle','Austin','Detroit','New York']\n",
    "techs = ['python','javascript','excel','database','Artificial Intelligence',\n",
    "    'Machine Learning','Data Science','Data Analy','Data Engineer']\n",
    "cities = ['Los Angeles']\n",
    "techs = ['python']\n",
    "outp = []\n",
    "'''\n",
    "def collectitems(sourcelist, item, filteredlist):\n",
    "    elist = enumerate(sourcelist)\n",
    "    for i in sourcelist:\n",
    "        #print('i=',i, 'sourcelist[i]', enumerate(sourcelist[i]))  # only getting 1st line\n",
    "        for loc in cities:\n",
    "            #print('for loc in cities ', loc)\n",
    "            if loc in i:\n",
    "                filteredlist.append([i])\n",
    "    return len(filteredlist)\n",
    "print(collectitems(edata, 3, outp))\n",
    "\n",
    "myfile = 'shorter.json'\n",
    "pathfn=os.path.join(os.getcwd(), myfile)\n",
    "\n",
    "# JSONDecodeError: Expecting property name enclosed in double quotes: line 2 column 1 (char 10)\n",
    "\n",
    "#ll   # or ll[0] = []\n",
    "for lo in range(0, len(cities)-1):\n",
    "    filtd[lo] = []\n",
    "    coli = collectitems (data, lo, ll[lo])  #  or ll[0], not quite right\n",
    "    tl = []\n",
    "    for t in techs:\n",
    "        collectitems (ll[lo], t, tl[t])\n",
    "df.to_excel(fn, tl)  # or tl.to_excel(fn) ???\n",
    "\n",
    "cnt = 0\n",
    "for i in data:\n",
    "    cnt += 1\n",
    "print(cnt)  # 27001\n",
    "''';\n",
    "api_url=\"http://127.0.0.1:5000/data/all\"\n",
    "response = requests.get(api_url)\n",
    "data = {}\n",
    "if response.ok:\n",
    "    print( response.headers)\n",
    "    print( response.request.headers)\n",
    "    print( type(response.text))\n",
    "    print( type(response.content))\n",
    "    print( type(response.json()))  # it says type list\n",
    "    x = response.json()\n",
    "    \n",
    "    print('DUMP x')\n",
    "    json.dumps(x)\n",
    "print('DUMP dicy')\n",
    "json.dumps(dicy)\n"
   ]
  },
  {
   "cell_type": "markdown",
   "metadata": {},
   "source": [
    "Create a python list of all technologies for which you need to find the number of jobs postings.\n"
   ]
  },
  {
   "cell_type": "code",
   "execution_count": 93,
   "metadata": {},
   "outputs": [],
   "source": [
    "'''\n",
    "table = {}\n",
    "table.append(get_number_of_jobs_L('Los Angeles'))\n",
    "table.append(get_number_of_jobs_L('San Francisco'))\n",
    "table.append(get_number_of_jobs_L('Washington DC'))\n",
    "table.append(get_number_of_jobs_L('Seattle'))\n",
    "table.append(get_number_of_jobs_L('Austin'))\n",
    "table.append(get_number_of_jobs_L('Detroit'))\n",
    "table.append(get_number_of_jobs_L('New York'))\n",
    "''';"
   ]
  },
  {
   "cell_type": "code",
   "execution_count": null,
   "metadata": {},
   "outputs": [],
   "source": [
    "#your code goes here\n",
    "# pd.to_excel(table)\n"
   ]
  },
  {
   "cell_type": "markdown",
   "metadata": {},
   "source": [
    "Import libraries required to create excel spreadsheet\n"
   ]
  },
  {
   "cell_type": "code",
   "execution_count": null,
   "metadata": {},
   "outputs": [],
   "source": [
    "# your code goes here"
   ]
  },
  {
   "cell_type": "markdown",
   "metadata": {},
   "source": [
    "Create a workbook and select the active worksheet\n"
   ]
  },
  {
   "cell_type": "code",
   "execution_count": null,
   "metadata": {},
   "outputs": [],
   "source": [
    "# your code goes here"
   ]
  },
  {
   "cell_type": "markdown",
   "metadata": {},
   "source": [
    "Find the number of jobs postings for each of the technology in the above list.\n",
    "Write the technology name and the number of jobs postings into the excel spreadsheet.\n"
   ]
  },
  {
   "cell_type": "code",
   "execution_count": null,
   "metadata": {},
   "outputs": [],
   "source": [
    "#your code goes here"
   ]
  },
  {
   "cell_type": "markdown",
   "metadata": {},
   "source": [
    "Save into an excel spreadsheet named 'github-job-postings.xlsx'.\n"
   ]
  },
  {
   "cell_type": "code",
   "execution_count": null,
   "metadata": {},
   "outputs": [],
   "source": [
    "#your code goes here"
   ]
  },
  {
   "cell_type": "markdown",
   "metadata": {},
   "source": [
    "#### In the similar way, you can try for below given technologies and results  can be stored in an excel sheet.\n"
   ]
  },
  {
   "cell_type": "markdown",
   "metadata": {},
   "source": [
    "Collect the number of job postings for the following languages using the API:\n",
    "\n",
    "*   C\n",
    "*   C#\n",
    "*   C++\n",
    "*   Java\n",
    "*   JavaScript\n",
    "*   Python\n",
    "*   Scala\n",
    "*   Oracle\n",
    "*   SQL Server\n",
    "*   MySQL Server\n",
    "*   PostgreSQL\n",
    "*   MongoDB\n"
   ]
  },
  {
   "cell_type": "code",
   "execution_count": null,
   "metadata": {},
   "outputs": [],
   "source": [
    "# your code goes here\n"
   ]
  },
  {
   "cell_type": "markdown",
   "metadata": {},
   "source": [
    "## Authors\n"
   ]
  },
  {
   "cell_type": "markdown",
   "metadata": {},
   "source": [
    "Ayushi Jain\n"
   ]
  },
  {
   "cell_type": "markdown",
   "metadata": {},
   "source": [
    "### Other Contributors\n"
   ]
  },
  {
   "cell_type": "markdown",
   "metadata": {},
   "source": [
    "Rav Ahuja\n",
    "\n",
    "Lakshmi Holla\n",
    "\n",
    "Malika\n"
   ]
  },
  {
   "cell_type": "markdown",
   "metadata": {},
   "source": [
    "Copyright © 2020 IBM Corporation. This notebook and its source code are released under the terms of the [MIT License](https://cognitiveclass.ai/mit-license?utm_medium=Exinfluencer\\&utm_source=Exinfluencer\\&utm_content=000026UJ\\&utm_term=10006555\\&utm_id=NA-SkillsNetwork-Channel-SkillsNetworkCoursesIBMDA0321ENSkillsNetwork21426264-2021-01-01\\&cm_mmc=Email_Newsletter-\\_-Developer_Ed%2BTech-\\_-WW_WW-\\_-SkillsNetwork-Courses-IBM-DA0321EN-SkillsNetwork-21426264\\&cm_mmca1=000026UJ\\&cm_mmca2=10006555\\&cm_mmca3=M12345678\\&cvosrc=email.Newsletter.M12345678\\&cvo_campaign=000026UJ).\n"
   ]
  },
  {
   "cell_type": "markdown",
   "metadata": {},
   "source": [
    "<!--## Change Log\n"
   ]
  },
  {
   "cell_type": "markdown",
   "metadata": {},
   "source": [
    "<!--| Date (YYYY-MM-DD) | Version | Changed By        | Change Description                 |\n",
    "| ----------------- | ------- | ----------------- | ---------------------------------- | \n",
    "| 2022-01-19        | 0.3     | Lakshmi Holla        | Added changes in the markdown      |\n",
    "| 2021-06-25        | 0.2     | Malika            | Updated GitHub job json link       |\n",
    "| 2020-10-17        | 0.1     | Ramesh Sannareddy | Created initial version of the lab |--!>\n"
   ]
  }
 ],
 "metadata": {
  "kernelspec": {
   "display_name": "Python 3 (ipykernel)",
   "language": "python",
   "name": "python3"
  },
  "language_info": {
   "codemirror_mode": {
    "name": "ipython",
    "version": 3
   },
   "file_extension": ".py",
   "mimetype": "text/x-python",
   "name": "python",
   "nbconvert_exporter": "python",
   "pygments_lexer": "ipython3",
   "version": "3.12.3"
  },
  "prev_pub_hash": "c4d9a957e70e09027735f73df3308c8386dea312a4960cb2534d8e6ade9a49cc"
 },
 "nbformat": 4,
 "nbformat_minor": 4
}
